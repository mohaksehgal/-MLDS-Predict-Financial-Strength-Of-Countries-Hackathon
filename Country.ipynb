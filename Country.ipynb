{
 "cells": [
  {
   "cell_type": "code",
   "execution_count": 1,
   "metadata": {},
   "outputs": [],
   "source": [
    "import pandas as pd\n",
    "import numpy as np"
   ]
  },
  {
   "cell_type": "code",
   "execution_count": 7,
   "metadata": {},
   "outputs": [],
   "source": [
    "A=pd.read_csv('final_train_data.csv')\n",
    "B=pd.read_csv('final_test_data.csv')"
   ]
  },
  {
   "cell_type": "code",
   "execution_count": 4,
   "metadata": {},
   "outputs": [
    {
     "data": {
      "text/html": [
       "<div>\n",
       "<style scoped>\n",
       "    .dataframe tbody tr th:only-of-type {\n",
       "        vertical-align: middle;\n",
       "    }\n",
       "\n",
       "    .dataframe tbody tr th {\n",
       "        vertical-align: top;\n",
       "    }\n",
       "\n",
       "    .dataframe thead th {\n",
       "        text-align: right;\n",
       "    }\n",
       "</style>\n",
       "<table border=\"1\" class=\"dataframe\">\n",
       "  <thead>\n",
       "    <tr style=\"text-align: right;\">\n",
       "      <th></th>\n",
       "      <th>Unnamed: 0</th>\n",
       "      <th>Country Name</th>\n",
       "      <th>Country Code</th>\n",
       "      <th>Year</th>\n",
       "      <th>Balance</th>\n",
       "      <th>Inflation</th>\n",
       "      <th>GDP</th>\n",
       "      <th>Exports</th>\n",
       "      <th>Trade</th>\n",
       "    </tr>\n",
       "  </thead>\n",
       "  <tbody>\n",
       "    <tr>\n",
       "      <th>0</th>\n",
       "      <td>0</td>\n",
       "      <td>Senegal</td>\n",
       "      <td>SEN</td>\n",
       "      <td>1983</td>\n",
       "      <td>-3.043829e+08</td>\n",
       "      <td>9.274213</td>\n",
       "      <td>-5.326393</td>\n",
       "      <td>6.180000e+08</td>\n",
       "      <td>59.224298</td>\n",
       "    </tr>\n",
       "    <tr>\n",
       "      <th>1</th>\n",
       "      <td>1</td>\n",
       "      <td>Togo</td>\n",
       "      <td>TGO</td>\n",
       "      <td>2009</td>\n",
       "      <td>-1.766692e+08</td>\n",
       "      <td>1.855275</td>\n",
       "      <td>3.510297</td>\n",
       "      <td>9.030260e+08</td>\n",
       "      <td>76.242542</td>\n",
       "    </tr>\n",
       "    <tr>\n",
       "      <th>2</th>\n",
       "      <td>2</td>\n",
       "      <td>Pakistan</td>\n",
       "      <td>PAK</td>\n",
       "      <td>1992</td>\n",
       "      <td>-1.876092e+09</td>\n",
       "      <td>10.057085</td>\n",
       "      <td>7.705898</td>\n",
       "      <td>7.351000e+09</td>\n",
       "      <td>34.489440</td>\n",
       "    </tr>\n",
       "    <tr>\n",
       "      <th>3</th>\n",
       "      <td>3</td>\n",
       "      <td>Nepal</td>\n",
       "      <td>NPL</td>\n",
       "      <td>1988</td>\n",
       "      <td>-2.714506e+08</td>\n",
       "      <td>11.815310</td>\n",
       "      <td>7.696809</td>\n",
       "      <td>1.900000e+08</td>\n",
       "      <td>24.978422</td>\n",
       "    </tr>\n",
       "    <tr>\n",
       "      <th>4</th>\n",
       "      <td>5</td>\n",
       "      <td>Malta</td>\n",
       "      <td>MLT</td>\n",
       "      <td>2016</td>\n",
       "      <td>7.269132e+08</td>\n",
       "      <td>1.604548</td>\n",
       "      <td>5.516617</td>\n",
       "      <td>3.017299e+09</td>\n",
       "      <td>83.781471</td>\n",
       "    </tr>\n",
       "  </tbody>\n",
       "</table>\n",
       "</div>"
      ],
      "text/plain": [
       "   Unnamed: 0 Country Name Country Code  Year       Balance  Inflation  \\\n",
       "0           0      Senegal          SEN  1983 -3.043829e+08   9.274213   \n",
       "1           1         Togo          TGO  2009 -1.766692e+08   1.855275   \n",
       "2           2     Pakistan          PAK  1992 -1.876092e+09  10.057085   \n",
       "3           3        Nepal          NPL  1988 -2.714506e+08  11.815310   \n",
       "4           5        Malta          MLT  2016  7.269132e+08   1.604548   \n",
       "\n",
       "        GDP       Exports      Trade  \n",
       "0 -5.326393  6.180000e+08  59.224298  \n",
       "1  3.510297  9.030260e+08  76.242542  \n",
       "2  7.705898  7.351000e+09  34.489440  \n",
       "3  7.696809  1.900000e+08  24.978422  \n",
       "4  5.516617  3.017299e+09  83.781471  "
      ]
     },
     "execution_count": 4,
     "metadata": {},
     "output_type": "execute_result"
    }
   ],
   "source": [
    "A.head()"
   ]
  },
  {
   "cell_type": "code",
   "execution_count": 12,
   "metadata": {},
   "outputs": [],
   "source": [
    "A.drop(A.columns[0],axis=1,inplace=True)"
   ]
  },
  {
   "cell_type": "code",
   "execution_count": 13,
   "metadata": {},
   "outputs": [],
   "source": [
    "B.drop(B.columns[0],axis=1,inplace=True)"
   ]
  },
  {
   "cell_type": "code",
   "execution_count": 14,
   "metadata": {},
   "outputs": [
    {
     "data": {
      "text/plain": [
       "Country Name    0\n",
       "Country Code    0\n",
       "Year            0\n",
       "Inflation       0\n",
       "GDP             0\n",
       "Exports         0\n",
       "Trade           0\n",
       "dtype: int64"
      ]
     },
     "execution_count": 14,
     "metadata": {},
     "output_type": "execute_result"
    }
   ],
   "source": [
    "B.isnull().sum()"
   ]
  },
  {
   "cell_type": "code",
   "execution_count": 15,
   "metadata": {},
   "outputs": [
    {
     "data": {
      "text/plain": [
       "Country Name      0\n",
       "Country Code      0\n",
       "Year              0\n",
       "Balance           0\n",
       "Inflation       245\n",
       "GDP             244\n",
       "Exports          16\n",
       "Trade           202\n",
       "dtype: int64"
      ]
     },
     "execution_count": 15,
     "metadata": {},
     "output_type": "execute_result"
    }
   ],
   "source": [
    "A.isnull().sum()"
   ]
  },
  {
   "cell_type": "code",
   "execution_count": 17,
   "metadata": {},
   "outputs": [
    {
     "data": {
      "text/html": [
       "<div>\n",
       "<style scoped>\n",
       "    .dataframe tbody tr th:only-of-type {\n",
       "        vertical-align: middle;\n",
       "    }\n",
       "\n",
       "    .dataframe tbody tr th {\n",
       "        vertical-align: top;\n",
       "    }\n",
       "\n",
       "    .dataframe thead th {\n",
       "        text-align: right;\n",
       "    }\n",
       "</style>\n",
       "<table border=\"1\" class=\"dataframe\">\n",
       "  <thead>\n",
       "    <tr style=\"text-align: right;\">\n",
       "      <th></th>\n",
       "      <th>Country Name</th>\n",
       "      <th>Country Code</th>\n",
       "      <th>Year</th>\n",
       "      <th>Inflation</th>\n",
       "      <th>GDP</th>\n",
       "      <th>Exports</th>\n",
       "      <th>Trade</th>\n",
       "    </tr>\n",
       "  </thead>\n",
       "  <tbody>\n",
       "    <tr>\n",
       "      <th>0</th>\n",
       "      <td>Cyprus</td>\n",
       "      <td>CYP</td>\n",
       "      <td>2001</td>\n",
       "      <td>3.657166</td>\n",
       "      <td>3.600665</td>\n",
       "      <td>9.760000e+08</td>\n",
       "      <td>46.359979</td>\n",
       "    </tr>\n",
       "    <tr>\n",
       "      <th>1</th>\n",
       "      <td>Benin</td>\n",
       "      <td>BEN</td>\n",
       "      <td>1995</td>\n",
       "      <td>15.099452</td>\n",
       "      <td>6.045199</td>\n",
       "      <td>4.200000e+08</td>\n",
       "      <td>53.726740</td>\n",
       "    </tr>\n",
       "    <tr>\n",
       "      <th>2</th>\n",
       "      <td>Bangladesh</td>\n",
       "      <td>BGD</td>\n",
       "      <td>1995</td>\n",
       "      <td>7.144939</td>\n",
       "      <td>5.121278</td>\n",
       "      <td>3.501000e+09</td>\n",
       "      <td>26.871554</td>\n",
       "    </tr>\n",
       "    <tr>\n",
       "      <th>3</th>\n",
       "      <td>Paraguay</td>\n",
       "      <td>PRY</td>\n",
       "      <td>1978</td>\n",
       "      <td>9.706191</td>\n",
       "      <td>12.028730</td>\n",
       "      <td>2.569700e+08</td>\n",
       "      <td>27.230654</td>\n",
       "    </tr>\n",
       "    <tr>\n",
       "      <th>4</th>\n",
       "      <td>Morocco</td>\n",
       "      <td>MAR</td>\n",
       "      <td>1987</td>\n",
       "      <td>3.014808</td>\n",
       "      <td>-0.325004</td>\n",
       "      <td>2.826000e+09</td>\n",
       "      <td>32.418633</td>\n",
       "    </tr>\n",
       "  </tbody>\n",
       "</table>\n",
       "</div>"
      ],
      "text/plain": [
       "  Country Name Country Code  Year  Inflation        GDP       Exports  \\\n",
       "0       Cyprus          CYP  2001   3.657166   3.600665  9.760000e+08   \n",
       "1        Benin          BEN  1995  15.099452   6.045199  4.200000e+08   \n",
       "2   Bangladesh          BGD  1995   7.144939   5.121278  3.501000e+09   \n",
       "3     Paraguay          PRY  1978   9.706191  12.028730  2.569700e+08   \n",
       "4      Morocco          MAR  1987   3.014808  -0.325004  2.826000e+09   \n",
       "\n",
       "       Trade  \n",
       "0  46.359979  \n",
       "1  53.726740  \n",
       "2  26.871554  \n",
       "3  27.230654  \n",
       "4  32.418633  "
      ]
     },
     "execution_count": 17,
     "metadata": {},
     "output_type": "execute_result"
    }
   ],
   "source": [
    "B.head()"
   ]
  },
  {
   "cell_type": "code",
   "execution_count": 26,
   "metadata": {},
   "outputs": [],
   "source": [
    "import seaborn as sns\n",
    "import matplotlib.pyplot as plt"
   ]
  },
  {
   "cell_type": "code",
   "execution_count": 45,
   "metadata": {},
   "outputs": [
    {
     "data": {
      "text/plain": [
       "(4506, 8)"
      ]
     },
     "execution_count": 45,
     "metadata": {},
     "output_type": "execute_result"
    }
   ],
   "source": [
    "A.shape"
   ]
  },
  {
   "cell_type": "code",
   "execution_count": 46,
   "metadata": {},
   "outputs": [
    {
     "data": {
      "text/plain": [
       "(1071, 7)"
      ]
     },
     "execution_count": 46,
     "metadata": {},
     "output_type": "execute_result"
    }
   ],
   "source": [
    "B.shape"
   ]
  },
  {
   "cell_type": "code",
   "execution_count": 47,
   "metadata": {},
   "outputs": [
    {
     "data": {
      "text/plain": [
       "Country Name      0\n",
       "Country Code      0\n",
       "Year              0\n",
       "Balance           0\n",
       "Inflation       245\n",
       "GDP             244\n",
       "Exports          16\n",
       "Trade           202\n",
       "dtype: int64"
      ]
     },
     "execution_count": 47,
     "metadata": {},
     "output_type": "execute_result"
    }
   ],
   "source": [
    "A.isnull().sum()"
   ]
  },
  {
   "cell_type": "code",
   "execution_count": 50,
   "metadata": {},
   "outputs": [],
   "source": [
    "l1=list(A[A['Inflation'].isnull()]['Country Name'])"
   ]
  },
  {
   "cell_type": "code",
   "execution_count": 53,
   "metadata": {},
   "outputs": [],
   "source": [
    "l2=list(A[A['Inflation'].isnull()].index)"
   ]
  },
  {
   "cell_type": "code",
   "execution_count": 54,
   "metadata": {},
   "outputs": [],
   "source": [
    "for i in range(0,len(l2)):\n",
    "    A.loc[l2[i],'Inflation']=A[A['Country Name']==l1[i]]['Inflation'].median()"
   ]
  },
  {
   "cell_type": "code",
   "execution_count": 56,
   "metadata": {},
   "outputs": [],
   "source": [
    "l3=list(A[A['GDP'].isnull()]['Country Name'])"
   ]
  },
  {
   "cell_type": "code",
   "execution_count": 57,
   "metadata": {},
   "outputs": [],
   "source": [
    "l4=list(A[A['GDP'].isnull()].index)"
   ]
  },
  {
   "cell_type": "code",
   "execution_count": 58,
   "metadata": {},
   "outputs": [],
   "source": [
    "for i in range(0,len(l3)):\n",
    "    A.loc[l4[i],'GDP']=A[A['Country Name']==l3[i]]['GDP'].median()"
   ]
  },
  {
   "cell_type": "code",
   "execution_count": 59,
   "metadata": {},
   "outputs": [
    {
     "data": {
      "text/plain": [
       "Country Name      0\n",
       "Country Code      0\n",
       "Year              0\n",
       "Balance           0\n",
       "Inflation         0\n",
       "GDP               0\n",
       "Exports          16\n",
       "Trade           202\n",
       "dtype: int64"
      ]
     },
     "execution_count": 59,
     "metadata": {},
     "output_type": "execute_result"
    }
   ],
   "source": [
    "A.isnull().sum()"
   ]
  },
  {
   "cell_type": "code",
   "execution_count": 60,
   "metadata": {},
   "outputs": [],
   "source": [
    "l5=list(A[A['Exports'].isnull()]['Country Name'])"
   ]
  },
  {
   "cell_type": "code",
   "execution_count": 61,
   "metadata": {},
   "outputs": [],
   "source": [
    "l6=list(A[A['Exports'].isnull()].index)"
   ]
  },
  {
   "cell_type": "code",
   "execution_count": 62,
   "metadata": {},
   "outputs": [],
   "source": [
    "for i in range(0,len(l6)):\n",
    "    A.loc[l6[i],'Exports']=A[A['Country Name']==l5[i]]['Exports'].median()"
   ]
  },
  {
   "cell_type": "code",
   "execution_count": 63,
   "metadata": {},
   "outputs": [],
   "source": [
    "l7=list(A[A['Trade'].isnull()]['Country Name'])\n",
    "l8=list(A[A['Trade'].isnull()].index)"
   ]
  },
  {
   "cell_type": "code",
   "execution_count": 64,
   "metadata": {},
   "outputs": [],
   "source": [
    "for i in range(0,len(l7)):\n",
    "    A.loc[l8[i],'Trade']=A[A['Country Name']==l7[i]]['Exports'].median()"
   ]
  },
  {
   "cell_type": "code",
   "execution_count": 65,
   "metadata": {},
   "outputs": [
    {
     "data": {
      "text/plain": [
       "Country Name    0\n",
       "Country Code    0\n",
       "Year            0\n",
       "Balance         0\n",
       "Inflation       0\n",
       "GDP             0\n",
       "Exports         0\n",
       "Trade           0\n",
       "dtype: int64"
      ]
     },
     "execution_count": 65,
     "metadata": {},
     "output_type": "execute_result"
    }
   ],
   "source": [
    "A.isnull().sum()"
   ]
  },
  {
   "cell_type": "code",
   "execution_count": 67,
   "metadata": {},
   "outputs": [
    {
     "data": {
      "text/plain": [
       "Country Name    0\n",
       "Country Code    0\n",
       "Year            0\n",
       "Inflation       0\n",
       "GDP             0\n",
       "Exports         0\n",
       "Trade           0\n",
       "dtype: int64"
      ]
     },
     "execution_count": 67,
     "metadata": {},
     "output_type": "execute_result"
    }
   ],
   "source": [
    "B.isnull().sum()"
   ]
  },
  {
   "cell_type": "code",
   "execution_count": 68,
   "metadata": {},
   "outputs": [
    {
     "data": {
      "text/html": [
       "<div>\n",
       "<style scoped>\n",
       "    .dataframe tbody tr th:only-of-type {\n",
       "        vertical-align: middle;\n",
       "    }\n",
       "\n",
       "    .dataframe tbody tr th {\n",
       "        vertical-align: top;\n",
       "    }\n",
       "\n",
       "    .dataframe thead th {\n",
       "        text-align: right;\n",
       "    }\n",
       "</style>\n",
       "<table border=\"1\" class=\"dataframe\">\n",
       "  <thead>\n",
       "    <tr style=\"text-align: right;\">\n",
       "      <th></th>\n",
       "      <th>Country Name</th>\n",
       "      <th>Country Code</th>\n",
       "      <th>Year</th>\n",
       "      <th>Balance</th>\n",
       "      <th>Inflation</th>\n",
       "      <th>GDP</th>\n",
       "      <th>Exports</th>\n",
       "      <th>Trade</th>\n",
       "    </tr>\n",
       "  </thead>\n",
       "  <tbody>\n",
       "    <tr>\n",
       "      <th>0</th>\n",
       "      <td>Senegal</td>\n",
       "      <td>SEN</td>\n",
       "      <td>1983</td>\n",
       "      <td>-3.043829e+08</td>\n",
       "      <td>9.274213</td>\n",
       "      <td>-5.326393</td>\n",
       "      <td>6.180000e+08</td>\n",
       "      <td>59.224298</td>\n",
       "    </tr>\n",
       "    <tr>\n",
       "      <th>1</th>\n",
       "      <td>Togo</td>\n",
       "      <td>TGO</td>\n",
       "      <td>2009</td>\n",
       "      <td>-1.766692e+08</td>\n",
       "      <td>1.855275</td>\n",
       "      <td>3.510297</td>\n",
       "      <td>9.030260e+08</td>\n",
       "      <td>76.242542</td>\n",
       "    </tr>\n",
       "    <tr>\n",
       "      <th>2</th>\n",
       "      <td>Pakistan</td>\n",
       "      <td>PAK</td>\n",
       "      <td>1992</td>\n",
       "      <td>-1.876092e+09</td>\n",
       "      <td>10.057085</td>\n",
       "      <td>7.705898</td>\n",
       "      <td>7.351000e+09</td>\n",
       "      <td>34.489440</td>\n",
       "    </tr>\n",
       "    <tr>\n",
       "      <th>3</th>\n",
       "      <td>Nepal</td>\n",
       "      <td>NPL</td>\n",
       "      <td>1988</td>\n",
       "      <td>-2.714506e+08</td>\n",
       "      <td>11.815310</td>\n",
       "      <td>7.696809</td>\n",
       "      <td>1.900000e+08</td>\n",
       "      <td>24.978422</td>\n",
       "    </tr>\n",
       "    <tr>\n",
       "      <th>4</th>\n",
       "      <td>Malta</td>\n",
       "      <td>MLT</td>\n",
       "      <td>2016</td>\n",
       "      <td>7.269132e+08</td>\n",
       "      <td>1.604548</td>\n",
       "      <td>5.516617</td>\n",
       "      <td>3.017299e+09</td>\n",
       "      <td>83.781471</td>\n",
       "    </tr>\n",
       "  </tbody>\n",
       "</table>\n",
       "</div>"
      ],
      "text/plain": [
       "  Country Name Country Code  Year       Balance  Inflation       GDP  \\\n",
       "0      Senegal          SEN  1983 -3.043829e+08   9.274213 -5.326393   \n",
       "1         Togo          TGO  2009 -1.766692e+08   1.855275  3.510297   \n",
       "2     Pakistan          PAK  1992 -1.876092e+09  10.057085  7.705898   \n",
       "3        Nepal          NPL  1988 -2.714506e+08  11.815310  7.696809   \n",
       "4        Malta          MLT  2016  7.269132e+08   1.604548  5.516617   \n",
       "\n",
       "        Exports      Trade  \n",
       "0  6.180000e+08  59.224298  \n",
       "1  9.030260e+08  76.242542  \n",
       "2  7.351000e+09  34.489440  \n",
       "3  1.900000e+08  24.978422  \n",
       "4  3.017299e+09  83.781471  "
      ]
     },
     "execution_count": 68,
     "metadata": {},
     "output_type": "execute_result"
    }
   ],
   "source": [
    "A.head()"
   ]
  },
  {
   "cell_type": "code",
   "execution_count": 72,
   "metadata": {},
   "outputs": [],
   "source": [
    "from sklearn.preprocessing import LabelEncoder, StandardScaler\n",
    "from sklearn.linear_model import LinearRegression\n",
    "from sklearn.ensemble import RandomForestRegressor, GradientBoostingRegressor, AdaBoostRegressor"
   ]
  },
  {
   "cell_type": "code",
   "execution_count": 73,
   "metadata": {},
   "outputs": [],
   "source": [
    "A.drop('Country Name',axis=1,inplace=True)\n",
    "B.drop('Country Name',axis=1,inplace=True)"
   ]
  },
  {
   "cell_type": "code",
   "execution_count": 74,
   "metadata": {},
   "outputs": [
    {
     "data": {
      "text/html": [
       "<div>\n",
       "<style scoped>\n",
       "    .dataframe tbody tr th:only-of-type {\n",
       "        vertical-align: middle;\n",
       "    }\n",
       "\n",
       "    .dataframe tbody tr th {\n",
       "        vertical-align: top;\n",
       "    }\n",
       "\n",
       "    .dataframe thead th {\n",
       "        text-align: right;\n",
       "    }\n",
       "</style>\n",
       "<table border=\"1\" class=\"dataframe\">\n",
       "  <thead>\n",
       "    <tr style=\"text-align: right;\">\n",
       "      <th></th>\n",
       "      <th>Country Code</th>\n",
       "      <th>Year</th>\n",
       "      <th>Balance</th>\n",
       "      <th>Inflation</th>\n",
       "      <th>GDP</th>\n",
       "      <th>Exports</th>\n",
       "      <th>Trade</th>\n",
       "    </tr>\n",
       "  </thead>\n",
       "  <tbody>\n",
       "    <tr>\n",
       "      <th>0</th>\n",
       "      <td>SEN</td>\n",
       "      <td>1983</td>\n",
       "      <td>-3.043829e+08</td>\n",
       "      <td>9.274213</td>\n",
       "      <td>-5.326393</td>\n",
       "      <td>6.180000e+08</td>\n",
       "      <td>59.224298</td>\n",
       "    </tr>\n",
       "    <tr>\n",
       "      <th>1</th>\n",
       "      <td>TGO</td>\n",
       "      <td>2009</td>\n",
       "      <td>-1.766692e+08</td>\n",
       "      <td>1.855275</td>\n",
       "      <td>3.510297</td>\n",
       "      <td>9.030260e+08</td>\n",
       "      <td>76.242542</td>\n",
       "    </tr>\n",
       "    <tr>\n",
       "      <th>2</th>\n",
       "      <td>PAK</td>\n",
       "      <td>1992</td>\n",
       "      <td>-1.876092e+09</td>\n",
       "      <td>10.057085</td>\n",
       "      <td>7.705898</td>\n",
       "      <td>7.351000e+09</td>\n",
       "      <td>34.489440</td>\n",
       "    </tr>\n",
       "    <tr>\n",
       "      <th>3</th>\n",
       "      <td>NPL</td>\n",
       "      <td>1988</td>\n",
       "      <td>-2.714506e+08</td>\n",
       "      <td>11.815310</td>\n",
       "      <td>7.696809</td>\n",
       "      <td>1.900000e+08</td>\n",
       "      <td>24.978422</td>\n",
       "    </tr>\n",
       "    <tr>\n",
       "      <th>4</th>\n",
       "      <td>MLT</td>\n",
       "      <td>2016</td>\n",
       "      <td>7.269132e+08</td>\n",
       "      <td>1.604548</td>\n",
       "      <td>5.516617</td>\n",
       "      <td>3.017299e+09</td>\n",
       "      <td>83.781471</td>\n",
       "    </tr>\n",
       "  </tbody>\n",
       "</table>\n",
       "</div>"
      ],
      "text/plain": [
       "  Country Code  Year       Balance  Inflation       GDP       Exports  \\\n",
       "0          SEN  1983 -3.043829e+08   9.274213 -5.326393  6.180000e+08   \n",
       "1          TGO  2009 -1.766692e+08   1.855275  3.510297  9.030260e+08   \n",
       "2          PAK  1992 -1.876092e+09  10.057085  7.705898  7.351000e+09   \n",
       "3          NPL  1988 -2.714506e+08  11.815310  7.696809  1.900000e+08   \n",
       "4          MLT  2016  7.269132e+08   1.604548  5.516617  3.017299e+09   \n",
       "\n",
       "       Trade  \n",
       "0  59.224298  \n",
       "1  76.242542  \n",
       "2  34.489440  \n",
       "3  24.978422  \n",
       "4  83.781471  "
      ]
     },
     "execution_count": 74,
     "metadata": {},
     "output_type": "execute_result"
    }
   ],
   "source": [
    "A.head()"
   ]
  },
  {
   "cell_type": "code",
   "execution_count": 75,
   "metadata": {},
   "outputs": [],
   "source": [
    "le=LabelEncoder()"
   ]
  },
  {
   "cell_type": "code",
   "execution_count": 77,
   "metadata": {},
   "outputs": [],
   "source": [
    "A['Country Code']=le.fit_transform(A['Country Code'])"
   ]
  },
  {
   "cell_type": "code",
   "execution_count": 78,
   "metadata": {},
   "outputs": [],
   "source": [
    "B['Country Code']=le.transform(B['Country Code'])"
   ]
  },
  {
   "cell_type": "code",
   "execution_count": 79,
   "metadata": {},
   "outputs": [],
   "source": [
    "x=A.drop('Balance',axis=1)\n",
    "y=A['Balance']"
   ]
  },
  {
   "cell_type": "code",
   "execution_count": 81,
   "metadata": {},
   "outputs": [],
   "source": [
    "lr=LinearRegression()\n",
    "rfr=RandomForestRegressor()\n",
    "gbr=GradientBoostingRegressor()\n",
    "abr=AdaBoostRegressor()\n",
    "sc=StandardScaler()"
   ]
  },
  {
   "cell_type": "code",
   "execution_count": 82,
   "metadata": {},
   "outputs": [],
   "source": [
    "x_scaled=sc.fit_transform(x)\n",
    "B_scaled=sc.transform(B)"
   ]
  },
  {
   "cell_type": "code",
   "execution_count": 83,
   "metadata": {},
   "outputs": [],
   "source": [
    "ypre=lr.fit(x_scaled,y).predict(B_scaled)"
   ]
  },
  {
   "cell_type": "code",
   "execution_count": 84,
   "metadata": {},
   "outputs": [],
   "source": [
    "S=pd.read_excel('mlds_sample_submission.xlsx')"
   ]
  },
  {
   "cell_type": "code",
   "execution_count": 86,
   "metadata": {},
   "outputs": [],
   "source": [
    "S['Balance']=ypre"
   ]
  },
  {
   "cell_type": "code",
   "execution_count": 87,
   "metadata": {},
   "outputs": [],
   "source": [
    "S.to_excel('lr.xlsx')"
   ]
  },
  {
   "cell_type": "code",
   "execution_count": 88,
   "metadata": {},
   "outputs": [],
   "source": [
    "ypre=rfr.fit(x_scaled,y).predict(B_scaled)"
   ]
  },
  {
   "cell_type": "code",
   "execution_count": 89,
   "metadata": {},
   "outputs": [],
   "source": [
    "S['Balance']=ypre"
   ]
  },
  {
   "cell_type": "code",
   "execution_count": 90,
   "metadata": {},
   "outputs": [],
   "source": [
    "S.to_excel('rfr.xlsx')"
   ]
  },
  {
   "cell_type": "code",
   "execution_count": 91,
   "metadata": {},
   "outputs": [],
   "source": [
    "ypre=gbr.fit(x_scaled,y).predict(B_scaled)"
   ]
  },
  {
   "cell_type": "code",
   "execution_count": 92,
   "metadata": {},
   "outputs": [],
   "source": [
    "S['Balance']=ypre"
   ]
  },
  {
   "cell_type": "code",
   "execution_count": 93,
   "metadata": {},
   "outputs": [],
   "source": [
    "S.to_excel('gbr.xlsx')"
   ]
  },
  {
   "cell_type": "code",
   "execution_count": 94,
   "metadata": {},
   "outputs": [],
   "source": [
    "ypre=abr.fit(x_scaled,y).predict(B_scaled)"
   ]
  },
  {
   "cell_type": "code",
   "execution_count": 95,
   "metadata": {},
   "outputs": [],
   "source": [
    "S['Balance']=ypre"
   ]
  },
  {
   "cell_type": "code",
   "execution_count": 96,
   "metadata": {},
   "outputs": [],
   "source": [
    "S.to_excel('abr.xlsx')"
   ]
  }
 ],
 "metadata": {
  "kernelspec": {
   "display_name": "Python 3",
   "language": "python",
   "name": "python3"
  },
  "language_info": {
   "codemirror_mode": {
    "name": "ipython",
    "version": 3
   },
   "file_extension": ".py",
   "mimetype": "text/x-python",
   "name": "python",
   "nbconvert_exporter": "python",
   "pygments_lexer": "ipython3",
   "version": "3.7.3"
  }
 },
 "nbformat": 4,
 "nbformat_minor": 2
}
